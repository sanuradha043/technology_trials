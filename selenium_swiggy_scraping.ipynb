{
 "cells": [
  {
   "cell_type": "code",
   "execution_count": null,
   "metadata": {},
   "outputs": [],
   "source": [
    "# This code is to use Selinium and scrape swiggy website to get the list of restaurants \n",
    "# in 'gandhinagar,adyar' with 'Heathy Food' filter\n",
    "\n",
    "# Installing selinium\n",
    "!pip install selenium"
   ]
  },
  {
   "cell_type": "code",
   "execution_count": null,
   "metadata": {},
   "outputs": [],
   "source": [
    "#Importing the required packages\n",
    "from selenium import webdriver\n",
    "from selenium.webdriver.common.by import By\n",
    "from selenium.webdriver.support.ui import WebDriverWait\n",
    "from selenium.common.exceptions import StaleElementReferenceException,TimeoutException\n",
    "from selenium.webdriver.support import expected_conditions as EC\n",
    "from selenium.webdriver.common.keys import Keys\n"
   ]
  },
  {
   "cell_type": "code",
   "execution_count": null,
   "metadata": {},
   "outputs": [],
   "source": [
    "# Download Chromedriver. The path refers to local path where chromedriver is saved\n",
    "driver = webdriver.Chrome(r\"C:\\Drivers\\Chrome Driver\\win32\\chromedriver.exe\")"
   ]
  },
  {
   "cell_type": "code",
   "execution_count": null,
   "metadata": {},
   "outputs": [],
   "source": [
    "# Hit the website swiggy.com\n",
    "driver.get(\"https://swiggy.com\")"
   ]
  },
  {
   "cell_type": "code",
   "execution_count": null,
   "metadata": {},
   "outputs": [],
   "source": [
    "#Find the text box to input location and populate it with \"Gandhinagar,adyar,chennai\"\n",
    "search_bar=driver.find_element(By.NAME, \"location\")\n",
    "search_bar.send_keys(\"Gandhinagar,adyar,chennai\")\n"
   ]
  },
  {
   "cell_type": "code",
   "execution_count": null,
   "metadata": {},
   "outputs": [],
   "source": [
    "#Scroll down one step to the top location recommendation and select it\n",
    "search_bar.send_keys(Keys.DOWN)\n",
    "search_bar.send_keys(Keys.ENTER)"
   ]
  },
  {
   "cell_type": "code",
   "execution_count": null,
   "metadata": {},
   "outputs": [],
   "source": [
    "# Find the link \"Filters\"(uses XPath here) and click on it\n",
    "filter = driver.find_element(By.XPATH,\"(//span[@class='h0xOG'])\")\n",
    "filter.click()"
   ]
  },
  {
   "cell_type": "code",
   "execution_count": null,
   "metadata": {},
   "outputs": [],
   "source": [
    "# Find all the checkboxes (uses By.CLASS_NAME)\n",
    "checkbox = driver.find_elements(By.CLASS_NAME,'MsBqD')\n",
    " \n",
    "#Loop through the checkboxes to find \"Healthy Food\" option and click that one \n",
    "for label in checkbox:        \n",
    "    val=label.text\n",
    "    if val==\"Healthy Food\":\n",
    "        label.click()\n",
    "        break"
   ]
  },
  {
   "cell_type": "code",
   "execution_count": null,
   "metadata": {},
   "outputs": [],
   "source": [
    "# Find the button \"Show Restaurants\" (uses By.CLASS_NAME) and click on it\n",
    "show=driver.find_element(By.CLASS_NAME,'LIBH0')\n",
    "show.click()"
   ]
  },
  {
   "cell_type": "code",
   "execution_count": null,
   "metadata": {},
   "outputs": [],
   "source": [
    "# Find the list of all restaurants (uses By.CLASS_NAME)\n",
    "restaurants = show=driver.find_elements(By.CLASS_NAME,'nA6kb')\n",
    "\n",
    "#Iterate through the restaurants and save it in a list healthy_restaurants\n",
    "healthy_restaurants = []\n",
    "for hotel in restaurants:\n",
    "    #print(prod.text)\n",
    "    healthy_restaurants.append(hotel.text)\n"
   ]
  },
  {
   "cell_type": "code",
   "execution_count": null,
   "metadata": {},
   "outputs": [],
   "source": [
    "# This can later be converted to dataframe to Excel. We can also add other components to it like description,location,rating etc.\n",
    "print(healthy_restaurants)\n",
    "    "
   ]
  }
 ],
 "metadata": {
  "kernelspec": {
   "display_name": ".venv",
   "language": "python",
   "name": "python3"
  },
  "language_info": {
   "codemirror_mode": {
    "name": "ipython",
    "version": 3
   },
   "file_extension": ".py",
   "mimetype": "text/x-python",
   "name": "python",
   "nbconvert_exporter": "python",
   "pygments_lexer": "ipython3",
   "version": "3.11.3"
  },
  "orig_nbformat": 4
 },
 "nbformat": 4,
 "nbformat_minor": 2
}
