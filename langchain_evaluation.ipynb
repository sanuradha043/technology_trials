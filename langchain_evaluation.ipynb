{
 "cells": [
  {
   "cell_type": "code",
   "execution_count": 1,
   "metadata": {},
   "outputs": [
    {
     "name": "stdout",
     "output_type": "stream",
     "text": [
      "Requirement already satisfied: langchain in c:\\users\\sanur\\appdata\\local\\programs\\python\\python311\\lib\\site-packages (0.0.209)\n",
      "Requirement already satisfied: PyYAML>=5.4.1 in c:\\users\\sanur\\appdata\\local\\programs\\python\\python311\\lib\\site-packages (from langchain) (6.0)\n",
      "Requirement already satisfied: SQLAlchemy<3,>=1.4 in c:\\users\\sanur\\appdata\\local\\programs\\python\\python311\\lib\\site-packages (from langchain) (2.0.12)\n",
      "Requirement already satisfied: aiohttp<4.0.0,>=3.8.3 in c:\\users\\sanur\\appdata\\local\\programs\\python\\python311\\lib\\site-packages (from langchain) (3.8.4)\n",
      "Requirement already satisfied: dataclasses-json<0.6.0,>=0.5.7 in c:\\users\\sanur\\appdata\\local\\programs\\python\\python311\\lib\\site-packages (from langchain) (0.5.7)\n",
      "Requirement already satisfied: langchainplus-sdk>=0.0.13 in c:\\users\\sanur\\appdata\\local\\programs\\python\\python311\\lib\\site-packages (from langchain) (0.0.16)\n",
      "Requirement already satisfied: numexpr<3.0.0,>=2.8.4 in c:\\users\\sanur\\appdata\\local\\programs\\python\\python311\\lib\\site-packages (from langchain) (2.8.4)\n",
      "Requirement already satisfied: numpy<2,>=1 in c:\\users\\sanur\\appdata\\local\\programs\\python\\python311\\lib\\site-packages (from langchain) (1.24.3)\n",
      "Requirement already satisfied: openapi-schema-pydantic<2.0,>=1.2 in c:\\users\\sanur\\appdata\\local\\programs\\python\\python311\\lib\\site-packages (from langchain) (1.2.4)\n",
      "Requirement already satisfied: pydantic<2,>=1 in c:\\users\\sanur\\appdata\\local\\programs\\python\\python311\\lib\\site-packages (from langchain) (1.10.7)\n",
      "Requirement already satisfied: requests<3,>=2 in c:\\users\\sanur\\appdata\\local\\programs\\python\\python311\\lib\\site-packages (from langchain) (2.29.0)\n",
      "Requirement already satisfied: tenacity<9.0.0,>=8.1.0 in c:\\users\\sanur\\appdata\\local\\programs\\python\\python311\\lib\\site-packages (from langchain) (8.2.2)\n",
      "Requirement already satisfied: attrs>=17.3.0 in c:\\users\\sanur\\appdata\\local\\programs\\python\\python311\\lib\\site-packages (from aiohttp<4.0.0,>=3.8.3->langchain) (23.1.0)\n",
      "Requirement already satisfied: charset-normalizer<4.0,>=2.0 in c:\\users\\sanur\\appdata\\local\\programs\\python\\python311\\lib\\site-packages (from aiohttp<4.0.0,>=3.8.3->langchain) (3.1.0)\n",
      "Requirement already satisfied: multidict<7.0,>=4.5 in c:\\users\\sanur\\appdata\\local\\programs\\python\\python311\\lib\\site-packages (from aiohttp<4.0.0,>=3.8.3->langchain) (6.0.4)\n",
      "Requirement already satisfied: async-timeout<5.0,>=4.0.0a3 in c:\\users\\sanur\\appdata\\local\\programs\\python\\python311\\lib\\site-packages (from aiohttp<4.0.0,>=3.8.3->langchain) (4.0.2)\n",
      "Requirement already satisfied: yarl<2.0,>=1.0 in c:\\users\\sanur\\appdata\\local\\programs\\python\\python311\\lib\\site-packages (from aiohttp<4.0.0,>=3.8.3->langchain) (1.9.2)\n",
      "Requirement already satisfied: frozenlist>=1.1.1 in c:\\users\\sanur\\appdata\\local\\programs\\python\\python311\\lib\\site-packages (from aiohttp<4.0.0,>=3.8.3->langchain) (1.3.3)\n",
      "Requirement already satisfied: aiosignal>=1.1.2 in c:\\users\\sanur\\appdata\\local\\programs\\python\\python311\\lib\\site-packages (from aiohttp<4.0.0,>=3.8.3->langchain) (1.3.1)\n",
      "Requirement already satisfied: marshmallow<4.0.0,>=3.3.0 in c:\\users\\sanur\\appdata\\local\\programs\\python\\python311\\lib\\site-packages (from dataclasses-json<0.6.0,>=0.5.7->langchain) (3.19.0)\n",
      "Requirement already satisfied: marshmallow-enum<2.0.0,>=1.5.1 in c:\\users\\sanur\\appdata\\local\\programs\\python\\python311\\lib\\site-packages (from dataclasses-json<0.6.0,>=0.5.7->langchain) (1.5.1)\n",
      "Requirement already satisfied: typing-inspect>=0.4.0 in c:\\users\\sanur\\appdata\\local\\programs\\python\\python311\\lib\\site-packages (from dataclasses-json<0.6.0,>=0.5.7->langchain) (0.8.0)\n",
      "Requirement already satisfied: typing-extensions>=4.2.0 in c:\\users\\sanur\\appdata\\local\\programs\\python\\python311\\lib\\site-packages (from pydantic<2,>=1->langchain) (4.5.0)\n",
      "Requirement already satisfied: idna<4,>=2.5 in c:\\users\\sanur\\appdata\\local\\programs\\python\\python311\\lib\\site-packages (from requests<3,>=2->langchain) (3.4)\n",
      "Requirement already satisfied: urllib3<1.27,>=1.21.1 in c:\\users\\sanur\\appdata\\local\\programs\\python\\python311\\lib\\site-packages (from requests<3,>=2->langchain) (1.26.15)\n",
      "Requirement already satisfied: certifi>=2017.4.17 in c:\\users\\sanur\\appdata\\local\\programs\\python\\python311\\lib\\site-packages (from requests<3,>=2->langchain) (2022.12.7)\n",
      "Requirement already satisfied: greenlet!=0.4.17 in c:\\users\\sanur\\appdata\\local\\programs\\python\\python311\\lib\\site-packages (from SQLAlchemy<3,>=1.4->langchain) (2.0.2)\n",
      "Requirement already satisfied: packaging>=17.0 in c:\\users\\sanur\\appdata\\roaming\\python\\python311\\site-packages (from marshmallow<4.0.0,>=3.3.0->dataclasses-json<0.6.0,>=0.5.7->langchain) (23.1)\n",
      "Requirement already satisfied: mypy-extensions>=0.3.0 in c:\\users\\sanur\\appdata\\local\\programs\\python\\python311\\lib\\site-packages (from typing-inspect>=0.4.0->dataclasses-json<0.6.0,>=0.5.7->langchain) (1.0.0)\n"
     ]
    }
   ],
   "source": [
    "!pip install --upgrade langchain\n"
   ]
  },
  {
   "cell_type": "code",
   "execution_count": 2,
   "metadata": {},
   "outputs": [],
   "source": [
    "import langchain\n",
    "\n",
    "from langchain.chat_models import ChatOpenAI\n",
    "from langchain.prompts import ChatPromptTemplate\n",
    "from langchain.chains import LLMChain\n"
   ]
  },
  {
   "cell_type": "code",
   "execution_count": 6,
   "metadata": {},
   "outputs": [],
   "source": [
    "import os\n",
    "\n",
    "from dotenv import load_dotenv, find_dotenv\n",
    "_ = load_dotenv(find_dotenv()) # read local .env file"
   ]
  },
  {
   "cell_type": "code",
   "execution_count": 7,
   "metadata": {},
   "outputs": [
    {
     "name": "stderr",
     "output_type": "stream",
     "text": [
      "WARNING! engine is not default parameter.\n",
      "                    engine was transferred to model_kwargs.\n",
      "                    Please confirm that engine is what you intended.\n"
     ]
    }
   ],
   "source": [
    "# Creating the llm, here a chat model using ChatOpenAI\n",
    "\n",
    "chat= ChatOpenAI(temperature=0.3,model=\"gpt-4\",engine=\"gpt-4\")"
   ]
  },
  {
   "cell_type": "code",
   "execution_count": 8,
   "metadata": {},
   "outputs": [],
   "source": [
    "text_longer_text = '''Chennai (/ˈtʃɛnaɪ/ (listen), Tamil: [ˈt͡ɕenːaɪ̯]), formerly known as Madras,[A] is the capital city of Tamil Nadu, the southernmost Indian state. It is the state's primate city both in area and population and is located on the Coromandel Coast of the Bay of Bengal. According to the 2011 Indian census, Chennai is the sixth-most populous city in India and forms the fourth-most populous urban agglomeration. The Greater Chennai Corporation is the civic body responsible for the city; it is the oldest city corporation of India, established in 1688—the second oldest in the world after London.\n",
    "\n",
    "Historically, Chennai and surroundings were part of the Chola, Pandya, Pallava and Vijayanagara kingdoms for many centuries. The coastal land, which then contained the fishing village Madrasapattinam, was purchased by the British East India Company from the Nayak ruler Damarla Chennapa Nayaka, in the 17th century. The British garrison established the Madras city and port, and built Fort St. George—the first British fortress in India—which the French won over briefly in 1746, before becoming the winter capital of the Madras Presidency, a colonial province of the British Raj in the Indian subcontinent. After India gained its independence in 1947, Madras continued as the capital city of the Madras State and present-day Tamil Nadu. The city was officially renamed as Chennai in 1996.\n",
    "\n",
    "The city is coterminous with Chennai district, which together with the adjoining suburbs constitutes the Chennai Metropolitan Area,[note 1] the 36th-largest urban area in the world by population[28] and one of the largest metropolitan economies of India. As the traditional and de facto gateway of South India,[1][2][3][4] Chennai is among the most-visited Indian cities by foreigners. It was ranked the 43rd most-visited city in the world in 2015 and 36th in 2019.[29][30] The Quality of Living Survey rates it as India's safest city.[31] Chennai attracts 45 percent of health tourists visiting India, and 30 to 40 percent of domestic health tourists.[32] As such, it is termed \"India's health capital\".[33][34] Chennai has the fifth-largest urban economy,[35] and had the third-largest expatriate population in India.[36][37]\n",
    "\n",
    "Ranked as a beta-level city in the Global Cities Index,[38] Chennai was dubbed India's best city by India Today in 2014.[39][40] It was named the \"hottest\" city (city worth visiting and worth living in for long term) by the BBC in 2015, citing its amalgam of both modern and traditional values.[41] It was the only South Asian city to feature on National Geographic's \"Top 10 food cities\" in 2015,[42] and ranked ninth on Lonely Planet's best cosmopolitan cities of the world.[43] In October 2017, Chennai was added to the UNESCO Creative Cities Network (UCCN) list for its rich musical tradition.[44] Chennai hosts more than one-third of India's automobile industry, and is a major film production center, home to the Tamil film industry.\n",
    "\n",
    "Etymology\n",
    "See also: Names of Chennai in different languages\n",
    "The name Chennai was derived from the name of Damarla Mudirasa Chennappa Nayakudu, father of Damarla Venkatapathy Nayak, a Nayak ruler who served as a general under Venkata III of the Vijayanagara Empire from whom the British acquired the town in 1639.[45][46] As such, the city's name is of Telugu language origin.[47][48][49] The first official use of the name Chennai is said to be in a sale deed, dated August 1639, to Francis Day of the East India Company, even before[50] the Chennakesava Perumal Temple was built in 1646,[51] while some scholars argue to the contrary.[52]\n",
    "\n",
    "The name Madras is also of native origin, and has been shown to have been in use before the British established a presence in India.[53] A Vijayanagara-era inscription dated to the year 1367 that mentions the port of Mādarasanpattanam, along with other small ports on the east coast, was discovered in 2015 and it was theorised that the aforementioned port is the fishing port of Royapuram.[54] According to some sources, Madras is derived from Madraspattinam, a fishing village north of Fort St George.[55] However, it is uncertain whether the name was in use before the arrival of Europeans.[56] British military mapmakers believed Madras was originally Mundir-raj or Mundiraj, which was the name of a Telugu community, Mudiraj, who were the native inhabitants of the city.[57][58]\n",
    "\n",
    "There are also suggestions that it may have originated from the Portuguese phrase Mãe de Deus or Madre de Dios, which means \"mother of God\", due to Portuguese influence on the port city, specifically referring to a Church of St. Mary.[59]\n",
    "\n",
    "In August 1996, the Government of Tamil Nadu officially changed the name from Madras to Chennai. At that time many Indian cities underwent a change of name.[60][61] However, the name Madras continues in occasional use for the city,[62] as well as for places named after the city such as University of Madras, IIT Madras, Madras Institute of Technology, Madras Medical College, Madras Veterinary College, Madras Christian College.'''"
   ]
  },
  {
   "cell_type": "code",
   "execution_count": 9,
   "metadata": {},
   "outputs": [],
   "source": [
    "text_question ='''What is your name? This is the first statement that People ask when you meet a new person. '''"
   ]
  },
  {
   "cell_type": "code",
   "execution_count": 10,
   "metadata": {},
   "outputs": [],
   "source": [
    "text_introducing='''Introducing the world's first chatbot which evaluates its own work!'''"
   ]
  },
  {
   "cell_type": "code",
   "execution_count": 11,
   "metadata": {},
   "outputs": [],
   "source": [
    "text_spell_mistake= ''' THsi textt is too demonstere that the GPT detects spelllings mistakes'''"
   ]
  },
  {
   "cell_type": "code",
   "execution_count": 12,
   "metadata": {},
   "outputs": [],
   "source": [
    "text_grammer_mistake='''i cannot able to do this work'''"
   ]
  },
  {
   "cell_type": "code",
   "execution_count": 13,
   "metadata": {},
   "outputs": [],
   "source": [
    "evaluate_template=\"\"\"\" Evaluate the text delimited by triple backticks return a json in the follwoing format\n",
    "character_count : character count of text,\n",
    "Rules name: passed or failed \n",
    "\n",
    "and evaluate it strictly for the following Rules\n",
    "Rules:\n",
    "1. Character count should be less than 2100 characters\n",
    "2. The text should start with a statement and not a question\n",
    "3. The text should start with a word other than \"Introducing\"\n",
    "4. The text should be free of spell check and grammatical check\n",
    "```{text}```\n",
    "\"\"\""
   ]
  },
  {
   "cell_type": "code",
   "execution_count": 16,
   "metadata": {},
   "outputs": [],
   "source": [
    "def evaluate(llm,evaluate_template, text):\n",
    "    # evaluate template \n",
    "    evaluate_prompt = ChatPromptTemplate.from_template(evaluate_template)\n",
    "\n",
    "    # chain to create romance \n",
    "    chain_evaluate = LLMChain(llm=llm, prompt=evaluate_prompt,output_key=\"evaluation\")\n",
    "\n",
    "   \n",
    "    final_result= chain_evaluate.run({\"text\":text})\n",
    "    return final_result\n",
    "    "
   ]
  },
  {
   "cell_type": "code",
   "execution_count": 17,
   "metadata": {},
   "outputs": [
    {
     "name": "stdout",
     "output_type": "stream",
     "text": [
      "{\n",
      "  \"character_count\": 104,\n",
      "  \"Rule 1: Character count less than 2100\": \"passed\",\n",
      "  \"Rule 2: Start with a statement\": \"failed\",\n",
      "  \"Rule 3: Start with a word other than 'Introducing'\": \"passed\",\n",
      "  \"Rule 4: Free of spell check and grammatical check\": \"passed\"\n",
      "}\n"
     ]
    }
   ],
   "source": [
    "print(evaluate(chat,evaluate_template,text_question))"
   ]
  }
 ],
 "metadata": {
  "kernelspec": {
   "display_name": "Python 3",
   "language": "python",
   "name": "python3"
  },
  "language_info": {
   "codemirror_mode": {
    "name": "ipython",
    "version": 3
   },
   "file_extension": ".py",
   "mimetype": "text/x-python",
   "name": "python",
   "nbconvert_exporter": "python",
   "pygments_lexer": "ipython3",
   "version": "3.11.3"
  },
  "orig_nbformat": 4
 },
 "nbformat": 4,
 "nbformat_minor": 2
}
